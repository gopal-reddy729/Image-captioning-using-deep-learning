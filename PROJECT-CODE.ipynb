{
 "cells": [
  {
   "cell_type": "code",
   "execution_count": 2,
   "id": "e1f80649",
   "metadata": {},
   "outputs": [
    {
     "name": "stdout",
     "output_type": "stream",
     "text": [
      "Requirement already satisfied: torch in c:\\users\\gopal\\appdata\\local\\programs\\python\\python312\\lib\\site-packages (2.6.0)\n",
      "Requirement already satisfied: torchvision in c:\\users\\gopal\\appdata\\local\\programs\\python\\python312\\lib\\site-packages (0.21.0)\n",
      "Requirement already satisfied: transformers in c:\\users\\gopal\\appdata\\local\\programs\\python\\python312\\lib\\site-packages (4.51.1)\n",
      "Requirement already satisfied: pillow in c:\\users\\gopal\\appdata\\local\\programs\\python\\python312\\lib\\site-packages (11.1.0)\n",
      "Note: you may need to restart the kernel to use updated packages.\n"
     ]
    },
    {
     "name": "stderr",
     "output_type": "stream",
     "text": [
      "WARNING: Retrying (Retry(total=4, connect=None, read=None, redirect=None, status=None)) after connection broken by 'NewConnectionError('<pip._vendor.urllib3.connection.HTTPSConnection object at 0x000002CC146037A0>: Failed to establish a new connection: [Errno 11001] getaddrinfo failed')': /simple/tkinter/\n",
      "ERROR: Could not find a version that satisfies the requirement tkinter (from versions: none)\n",
      "ERROR: No matching distribution found for tkinter\n",
      "\n",
      "[notice] A new release of pip is available: 23.2.1 -> 25.1.1\n",
      "[notice] To update, run: python.exe -m pip install --upgrade pip\n"
     ]
    }
   ],
   "source": [
    "pip install torch torchvision transformers pillow tkinter\n"
   ]
  },
  {
   "cell_type": "code",
   "execution_count": null,
   "id": "08cca621",
   "metadata": {},
   "outputs": [
    {
     "name": "stdout",
     "output_type": "stream",
     "text": [
      "Requirement already satisfied: Pillow in c:\\users\\gopal\\appdata\\local\\programs\\python\\python312\\lib\\site-packages (11.1.0)\n",
      "Note: you may need to restart the kernel to use updated packages.\n"
     ]
    },
    {
     "name": "stderr",
     "output_type": "stream",
     "text": [
      "\n",
      "[notice] A new release of pip is available: 23.2.1 -> 25.0.1\n",
      "[notice] To update, run: python.exe -m pip install --upgrade pip\n"
     ]
    }
   ],
   "source": [
    "pip install Pillow\n"
   ]
  },
  {
   "cell_type": "code",
   "execution_count": null,
   "id": "5aea86b3",
   "metadata": {},
   "outputs": [
    {
     "name": "stdout",
     "output_type": "stream",
     "text": [
      "Requirement already satisfied: transformers in c:\\users\\gopal\\appdata\\local\\programs\\python\\python312\\lib\\site-packages (4.51.1)\n",
      "Requirement already satisfied: filelock in c:\\users\\gopal\\appdata\\local\\programs\\python\\python312\\lib\\site-packages (from transformers) (3.18.0)\n",
      "Requirement already satisfied: huggingface-hub<1.0,>=0.30.0 in c:\\users\\gopal\\appdata\\local\\programs\\python\\python312\\lib\\site-packages (from transformers) (0.30.2)\n",
      "Requirement already satisfied: numpy>=1.17 in c:\\users\\gopal\\appdata\\local\\programs\\python\\python312\\lib\\site-packages (from transformers) (1.26.4)\n",
      "Requirement already satisfied: packaging>=20.0 in c:\\users\\gopal\\appdata\\roaming\\python\\python312\\site-packages (from transformers) (24.2)\n",
      "Requirement already satisfied: pyyaml>=5.1 in c:\\users\\gopal\\appdata\\local\\programs\\python\\python312\\lib\\site-packages (from transformers) (6.0.2)\n",
      "Requirement already satisfied: regex!=2019.12.17 in c:\\users\\gopal\\appdata\\local\\programs\\python\\python312\\lib\\site-packages (from transformers) (2024.11.6)\n",
      "Requirement already satisfied: requests in c:\\users\\gopal\\appdata\\local\\programs\\python\\python312\\lib\\site-packages (from transformers) (2.32.3)\n",
      "Requirement already satisfied: tokenizers<0.22,>=0.21 in c:\\users\\gopal\\appdata\\local\\programs\\python\\python312\\lib\\site-packages (from transformers) (0.21.1)\n",
      "Requirement already satisfied: safetensors>=0.4.3 in c:\\users\\gopal\\appdata\\local\\programs\\python\\python312\\lib\\site-packages (from transformers) (0.5.3)\n",
      "Requirement already satisfied: tqdm>=4.27 in c:\\users\\gopal\\appdata\\local\\programs\\python\\python312\\lib\\site-packages (from transformers) (4.67.1)\n",
      "Requirement already satisfied: fsspec>=2023.5.0 in c:\\users\\gopal\\appdata\\local\\programs\\python\\python312\\lib\\site-packages (from huggingface-hub<1.0,>=0.30.0->transformers) (2025.3.2)\n",
      "Requirement already satisfied: typing-extensions>=3.7.4.3 in c:\\users\\gopal\\appdata\\local\\programs\\python\\python312\\lib\\site-packages (from huggingface-hub<1.0,>=0.30.0->transformers) (4.13.1)\n",
      "Requirement already satisfied: colorama in c:\\users\\gopal\\appdata\\roaming\\python\\python312\\site-packages (from tqdm>=4.27->transformers) (0.4.6)\n",
      "Requirement already satisfied: charset-normalizer<4,>=2 in c:\\users\\gopal\\appdata\\local\\programs\\python\\python312\\lib\\site-packages (from requests->transformers) (3.4.1)\n",
      "Requirement already satisfied: idna<4,>=2.5 in c:\\users\\gopal\\appdata\\local\\programs\\python\\python312\\lib\\site-packages (from requests->transformers) (3.10)\n",
      "Requirement already satisfied: urllib3<3,>=1.21.1 in c:\\users\\gopal\\appdata\\local\\programs\\python\\python312\\lib\\site-packages (from requests->transformers) (2.3.0)\n",
      "Requirement already satisfied: certifi>=2017.4.17 in c:\\users\\gopal\\appdata\\local\\programs\\python\\python312\\lib\\site-packages (from requests->transformers) (2025.1.31)\n"
     ]
    },
    {
     "name": "stderr",
     "output_type": "stream",
     "text": [
      "\n",
      "[notice] A new release of pip is available: 23.2.1 -> 25.0.1\n",
      "[notice] To update, run: python.exe -m pip install --upgrade pip\n"
     ]
    },
    {
     "name": "stdout",
     "output_type": "stream",
     "text": [
      "Requirement already satisfied: torch in c:\\users\\gopal\\appdata\\local\\programs\\python\\python312\\lib\\site-packages (2.6.0)\n",
      "Requirement already satisfied: torchvision in c:\\users\\gopal\\appdata\\local\\programs\\python\\python312\\lib\\site-packages (0.21.0)\n",
      "Requirement already satisfied: filelock in c:\\users\\gopal\\appdata\\local\\programs\\python\\python312\\lib\\site-packages (from torch) (3.18.0)\n",
      "Requirement already satisfied: typing-extensions>=4.10.0 in c:\\users\\gopal\\appdata\\local\\programs\\python\\python312\\lib\\site-packages (from torch) (4.13.1)\n",
      "Requirement already satisfied: networkx in c:\\users\\gopal\\appdata\\local\\programs\\python\\python312\\lib\\site-packages (from torch) (3.4.2)\n",
      "Requirement already satisfied: jinja2 in c:\\users\\gopal\\appdata\\local\\programs\\python\\python312\\lib\\site-packages (from torch) (3.1.6)\n",
      "Requirement already satisfied: fsspec in c:\\users\\gopal\\appdata\\local\\programs\\python\\python312\\lib\\site-packages (from torch) (2025.3.2)\n",
      "Requirement already satisfied: setuptools in c:\\users\\gopal\\appdata\\local\\programs\\python\\python312\\lib\\site-packages (from torch) (78.1.0)\n",
      "Requirement already satisfied: sympy==1.13.1 in c:\\users\\gopal\\appdata\\local\\programs\\python\\python312\\lib\\site-packages (from torch) (1.13.1)\n",
      "Requirement already satisfied: mpmath<1.4,>=1.1.0 in c:\\users\\gopal\\appdata\\local\\programs\\python\\python312\\lib\\site-packages (from sympy==1.13.1->torch) (1.3.0)\n",
      "Requirement already satisfied: numpy in c:\\users\\gopal\\appdata\\local\\programs\\python\\python312\\lib\\site-packages (from torchvision) (1.26.4)\n",
      "Requirement already satisfied: pillow!=8.3.*,>=5.3.0 in c:\\users\\gopal\\appdata\\local\\programs\\python\\python312\\lib\\site-packages (from torchvision) (11.1.0)\n",
      "Requirement already satisfied: MarkupSafe>=2.0 in c:\\users\\gopal\\appdata\\local\\programs\\python\\python312\\lib\\site-packages (from jinja2->torch) (3.0.2)\n"
     ]
    },
    {
     "name": "stderr",
     "output_type": "stream",
     "text": [
      "\n",
      "[notice] A new release of pip is available: 23.2.1 -> 25.0.1\n",
      "[notice] To update, run: python.exe -m pip install --upgrade pip\n"
     ]
    },
    {
     "name": "stdout",
     "output_type": "stream",
     "text": [
      "Requirement already satisfied: Pillow in c:\\users\\gopal\\appdata\\local\\programs\\python\\python312\\lib\\site-packages (11.1.0)\n"
     ]
    },
    {
     "name": "stderr",
     "output_type": "stream",
     "text": [
      "\n",
      "[notice] A new release of pip is available: 23.2.1 -> 25.0.1\n",
      "[notice] To update, run: python.exe -m pip install --upgrade pip\n"
     ]
    }
   ],
   "source": [
    "!pip install transformers\n",
    "!pip install torch torchvision\n",
    "!pip install Pillow\n"
   ]
  },
  {
   "cell_type": "code",
   "execution_count": 1,
   "id": "90b5c004",
   "metadata": {},
   "outputs": [
    {
     "name": "stderr",
     "output_type": "stream",
     "text": [
      "c:\\Users\\gopal\\AppData\\Local\\Programs\\Python\\Python312\\Lib\\site-packages\\tqdm\\auto.py:21: TqdmWarning: IProgress not found. Please update jupyter and ipywidgets. See https://ipywidgets.readthedocs.io/en/stable/user_install.html\n",
      "  from .autonotebook import tqdm as notebook_tqdm\n"
     ]
    },
    {
     "ename": "KeyboardInterrupt",
     "evalue": "",
     "output_type": "error",
     "traceback": [
      "\u001b[31m---------------------------------------------------------------------------\u001b[39m",
      "\u001b[31mKeyboardInterrupt\u001b[39m                         Traceback (most recent call last)",
      "\u001b[36mCell\u001b[39m\u001b[36m \u001b[39m\u001b[32mIn[1]\u001b[39m\u001b[32m, line 4\u001b[39m\n\u001b[32m      2\u001b[39m \u001b[38;5;28;01mfrom\u001b[39;00m\u001b[38;5;250m \u001b[39m\u001b[34;01mtkinter\u001b[39;00m\u001b[38;5;250m \u001b[39m\u001b[38;5;28;01mimport\u001b[39;00m filedialog\n\u001b[32m      3\u001b[39m \u001b[38;5;28;01mfrom\u001b[39;00m\u001b[38;5;250m \u001b[39m\u001b[34;01mPIL\u001b[39;00m\u001b[38;5;250m \u001b[39m\u001b[38;5;28;01mimport\u001b[39;00m Image, ImageTk\n\u001b[32m----> \u001b[39m\u001b[32m4\u001b[39m \u001b[38;5;28;01mfrom\u001b[39;00m\u001b[38;5;250m \u001b[39m\u001b[34;01mtransformers\u001b[39;00m\u001b[38;5;250m \u001b[39m\u001b[38;5;28;01mimport\u001b[39;00m BlipProcessor, BlipForConditionalGeneration\n\u001b[32m      5\u001b[39m \u001b[38;5;28;01mimport\u001b[39;00m\u001b[38;5;250m \u001b[39m\u001b[34;01mtorch\u001b[39;00m\n\u001b[32m      7\u001b[39m \u001b[38;5;66;03m# Load pretrained BLIP model\u001b[39;00m\n",
      "\u001b[36mFile \u001b[39m\u001b[32m<frozen importlib._bootstrap>:1412\u001b[39m, in \u001b[36m_handle_fromlist\u001b[39m\u001b[34m(module, fromlist, import_, recursive)\u001b[39m\n",
      "\u001b[36mFile \u001b[39m\u001b[32mc:\\Users\\gopal\\AppData\\Local\\Programs\\Python\\Python312\\Lib\\site-packages\\transformers\\utils\\import_utils.py:1955\u001b[39m, in \u001b[36m_LazyModule.__getattr__\u001b[39m\u001b[34m(self, name)\u001b[39m\n\u001b[32m   1953\u001b[39m     value = Placeholder\n\u001b[32m   1954\u001b[39m \u001b[38;5;28;01melif\u001b[39;00m name \u001b[38;5;129;01min\u001b[39;00m \u001b[38;5;28mself\u001b[39m._class_to_module.keys():\n\u001b[32m-> \u001b[39m\u001b[32m1955\u001b[39m     module = \u001b[38;5;28;43mself\u001b[39;49m\u001b[43m.\u001b[49m\u001b[43m_get_module\u001b[49m\u001b[43m(\u001b[49m\u001b[38;5;28;43mself\u001b[39;49m\u001b[43m.\u001b[49m\u001b[43m_class_to_module\u001b[49m\u001b[43m[\u001b[49m\u001b[43mname\u001b[49m\u001b[43m]\u001b[49m\u001b[43m)\u001b[49m\n\u001b[32m   1956\u001b[39m     value = \u001b[38;5;28mgetattr\u001b[39m(module, name)\n\u001b[32m   1957\u001b[39m \u001b[38;5;28;01melif\u001b[39;00m name \u001b[38;5;129;01min\u001b[39;00m \u001b[38;5;28mself\u001b[39m._modules:\n",
      "\u001b[36mFile \u001b[39m\u001b[32mc:\\Users\\gopal\\AppData\\Local\\Programs\\Python\\Python312\\Lib\\site-packages\\transformers\\utils\\import_utils.py:1967\u001b[39m, in \u001b[36m_LazyModule._get_module\u001b[39m\u001b[34m(self, module_name)\u001b[39m\n\u001b[32m   1965\u001b[39m \u001b[38;5;28;01mdef\u001b[39;00m\u001b[38;5;250m \u001b[39m\u001b[34m_get_module\u001b[39m(\u001b[38;5;28mself\u001b[39m, module_name: \u001b[38;5;28mstr\u001b[39m):\n\u001b[32m   1966\u001b[39m     \u001b[38;5;28;01mtry\u001b[39;00m:\n\u001b[32m-> \u001b[39m\u001b[32m1967\u001b[39m         \u001b[38;5;28;01mreturn\u001b[39;00m \u001b[43mimportlib\u001b[49m\u001b[43m.\u001b[49m\u001b[43mimport_module\u001b[49m\u001b[43m(\u001b[49m\u001b[33;43m\"\u001b[39;49m\u001b[33;43m.\u001b[39;49m\u001b[33;43m\"\u001b[39;49m\u001b[43m \u001b[49m\u001b[43m+\u001b[49m\u001b[43m \u001b[49m\u001b[43mmodule_name\u001b[49m\u001b[43m,\u001b[49m\u001b[43m \u001b[49m\u001b[38;5;28;43mself\u001b[39;49m\u001b[43m.\u001b[49m\u001b[34;43m__name__\u001b[39;49m\u001b[43m)\u001b[49m\n\u001b[32m   1968\u001b[39m     \u001b[38;5;28;01mexcept\u001b[39;00m \u001b[38;5;167;01mException\u001b[39;00m \u001b[38;5;28;01mas\u001b[39;00m e:\n\u001b[32m   1969\u001b[39m         \u001b[38;5;28;01mraise\u001b[39;00m \u001b[38;5;167;01mRuntimeError\u001b[39;00m(\n\u001b[32m   1970\u001b[39m             \u001b[33mf\u001b[39m\u001b[33m\"\u001b[39m\u001b[33mFailed to import \u001b[39m\u001b[38;5;132;01m{\u001b[39;00m\u001b[38;5;28mself\u001b[39m.\u001b[34m__name__\u001b[39m\u001b[38;5;132;01m}\u001b[39;00m\u001b[33m.\u001b[39m\u001b[38;5;132;01m{\u001b[39;00mmodule_name\u001b[38;5;132;01m}\u001b[39;00m\u001b[33m because of the following error (look up to see its\u001b[39m\u001b[33m\"\u001b[39m\n\u001b[32m   1971\u001b[39m             \u001b[33mf\u001b[39m\u001b[33m\"\u001b[39m\u001b[33m traceback):\u001b[39m\u001b[38;5;130;01m\\n\u001b[39;00m\u001b[38;5;132;01m{\u001b[39;00me\u001b[38;5;132;01m}\u001b[39;00m\u001b[33m\"\u001b[39m\n\u001b[32m   1972\u001b[39m         ) \u001b[38;5;28;01mfrom\u001b[39;00m\u001b[38;5;250m \u001b[39m\u001b[34;01me\u001b[39;00m\n",
      "\u001b[36mFile \u001b[39m\u001b[32mc:\\Users\\gopal\\AppData\\Local\\Programs\\Python\\Python312\\Lib\\importlib\\__init__.py:90\u001b[39m, in \u001b[36mimport_module\u001b[39m\u001b[34m(name, package)\u001b[39m\n\u001b[32m     88\u001b[39m             \u001b[38;5;28;01mbreak\u001b[39;00m\n\u001b[32m     89\u001b[39m         level += \u001b[32m1\u001b[39m\n\u001b[32m---> \u001b[39m\u001b[32m90\u001b[39m \u001b[38;5;28;01mreturn\u001b[39;00m \u001b[43m_bootstrap\u001b[49m\u001b[43m.\u001b[49m\u001b[43m_gcd_import\u001b[49m\u001b[43m(\u001b[49m\u001b[43mname\u001b[49m\u001b[43m[\u001b[49m\u001b[43mlevel\u001b[49m\u001b[43m:\u001b[49m\u001b[43m]\u001b[49m\u001b[43m,\u001b[49m\u001b[43m \u001b[49m\u001b[43mpackage\u001b[49m\u001b[43m,\u001b[49m\u001b[43m \u001b[49m\u001b[43mlevel\u001b[49m\u001b[43m)\u001b[49m\n",
      "\u001b[36mFile \u001b[39m\u001b[32mc:\\Users\\gopal\\AppData\\Local\\Programs\\Python\\Python312\\Lib\\site-packages\\transformers\\models\\__init__.py:15\u001b[39m\n\u001b[32m      1\u001b[39m \u001b[38;5;66;03m# Copyright 2020 The HuggingFace Team. All rights reserved.\u001b[39;00m\n\u001b[32m      2\u001b[39m \u001b[38;5;66;03m#\u001b[39;00m\n\u001b[32m      3\u001b[39m \u001b[38;5;66;03m# Licensed under the Apache License, Version 2.0 (the \"License\");\u001b[39;00m\n\u001b[32m   (...)\u001b[39m\u001b[32m     12\u001b[39m \u001b[38;5;66;03m# See the License for the specific language governing permissions and\u001b[39;00m\n\u001b[32m     13\u001b[39m \u001b[38;5;66;03m# limitations under the License.\u001b[39;00m\n\u001b[32m---> \u001b[39m\u001b[32m15\u001b[39m \u001b[38;5;28;01mfrom\u001b[39;00m\u001b[38;5;250m \u001b[39m\u001b[34;01m.\u001b[39;00m\u001b[38;5;250m \u001b[39m\u001b[38;5;28;01mimport\u001b[39;00m (\n\u001b[32m     16\u001b[39m     albert,\n\u001b[32m     17\u001b[39m     align,\n\u001b[32m     18\u001b[39m     altclip,\n\u001b[32m     19\u001b[39m     aria,\n\u001b[32m     20\u001b[39m     audio_spectrogram_transformer,\n\u001b[32m     21\u001b[39m     auto,\n\u001b[32m     22\u001b[39m     autoformer,\n\u001b[32m     23\u001b[39m     aya_vision,\n\u001b[32m     24\u001b[39m     bamba,\n\u001b[32m     25\u001b[39m     bark,\n\u001b[32m     26\u001b[39m     bart,\n\u001b[32m     27\u001b[39m     barthez,\n\u001b[32m     28\u001b[39m     bartpho,\n\u001b[32m     29\u001b[39m     beit,\n\u001b[32m     30\u001b[39m     bert,\n\u001b[32m     31\u001b[39m     bert_generation,\n\u001b[32m     32\u001b[39m     bert_japanese,\n\u001b[32m     33\u001b[39m     bertweet,\n\u001b[32m     34\u001b[39m     big_bird,\n\u001b[32m     35\u001b[39m     bigbird_pegasus,\n\u001b[32m     36\u001b[39m     biogpt,\n\u001b[32m     37\u001b[39m     bit,\n\u001b[32m     38\u001b[39m     blenderbot,\n\u001b[32m     39\u001b[39m     blenderbot_small,\n\u001b[32m     40\u001b[39m     blip,\n\u001b[32m     41\u001b[39m     blip_2,\n\u001b[32m     42\u001b[39m     bloom,\n\u001b[32m     43\u001b[39m     bridgetower,\n\u001b[32m     44\u001b[39m     bros,\n\u001b[32m     45\u001b[39m     byt5,\n\u001b[32m     46\u001b[39m     camembert,\n\u001b[32m     47\u001b[39m     canine,\n\u001b[32m     48\u001b[39m     chameleon,\n\u001b[32m     49\u001b[39m     chinese_clip,\n\u001b[32m     50\u001b[39m     clap,\n\u001b[32m     51\u001b[39m     clip,\n\u001b[32m     52\u001b[39m     clipseg,\n\u001b[32m     53\u001b[39m     clvp,\n\u001b[32m     54\u001b[39m     code_llama,\n\u001b[32m     55\u001b[39m     codegen,\n\u001b[32m     56\u001b[39m     cohere,\n\u001b[32m     57\u001b[39m     cohere2,\n\u001b[32m     58\u001b[39m     colpali,\n\u001b[32m     59\u001b[39m     conditional_detr,\n\u001b[32m     60\u001b[39m     convbert,\n\u001b[32m     61\u001b[39m     convnext,\n\u001b[32m     62\u001b[39m     convnextv2,\n\u001b[32m     63\u001b[39m     cpm,\n\u001b[32m     64\u001b[39m     cpmant,\n\u001b[32m     65\u001b[39m     ctrl,\n\u001b[32m     66\u001b[39m     cvt,\n\u001b[32m     67\u001b[39m     dab_detr,\n\u001b[32m     68\u001b[39m     dac,\n\u001b[32m     69\u001b[39m     data2vec,\n\u001b[32m     70\u001b[39m     dbrx,\n\u001b[32m     71\u001b[39m     deberta,\n\u001b[32m     72\u001b[39m     deberta_v2,\n\u001b[32m     73\u001b[39m     decision_transformer,\n\u001b[32m     74\u001b[39m     deepseek_v3,\n\u001b[32m     75\u001b[39m     deformable_detr,\n\u001b[32m     76\u001b[39m     deit,\n\u001b[32m     77\u001b[39m     deprecated,\n\u001b[32m     78\u001b[39m     depth_anything,\n\u001b[32m     79\u001b[39m     depth_pro,\n\u001b[32m     80\u001b[39m     detr,\n\u001b[32m     81\u001b[39m     dialogpt,\n\u001b[32m     82\u001b[39m     diffllama,\n\u001b[32m     83\u001b[39m     dinat,\n\u001b[32m     84\u001b[39m     dinov2,\n\u001b[32m     85\u001b[39m     dinov2_with_registers,\n\u001b[32m     86\u001b[39m     distilbert,\n\u001b[32m     87\u001b[39m     dit,\n\u001b[32m     88\u001b[39m     donut,\n\u001b[32m     89\u001b[39m     dpr,\n\u001b[32m     90\u001b[39m     dpt,\n\u001b[32m     91\u001b[39m     efficientnet,\n\u001b[32m     92\u001b[39m     electra,\n\u001b[32m     93\u001b[39m     emu3,\n\u001b[32m     94\u001b[39m     encodec,\n\u001b[32m     95\u001b[39m     encoder_decoder,\n\u001b[32m     96\u001b[39m     ernie,\n\u001b[32m     97\u001b[39m     esm,\n\u001b[32m     98\u001b[39m     falcon,\n\u001b[32m     99\u001b[39m     falcon_mamba,\n\u001b[32m    100\u001b[39m     fastspeech2_conformer,\n\u001b[32m    101\u001b[39m     flaubert,\n\u001b[32m    102\u001b[39m     flava,\n\u001b[32m    103\u001b[39m     fnet,\n\u001b[32m    104\u001b[39m     focalnet,\n\u001b[32m    105\u001b[39m     fsmt,\n\u001b[32m    106\u001b[39m     funnel,\n\u001b[32m    107\u001b[39m     fuyu,\n\u001b[32m    108\u001b[39m     gemma,\n\u001b[32m    109\u001b[39m     gemma2,\n\u001b[32m    110\u001b[39m     gemma3,\n\u001b[32m    111\u001b[39m     git,\n\u001b[32m    112\u001b[39m     glm,\n\u001b[32m    113\u001b[39m     glpn,\n\u001b[32m    114\u001b[39m     got_ocr2,\n\u001b[32m    115\u001b[39m     gpt2,\n\u001b[32m    116\u001b[39m     gpt_bigcode,\n\u001b[32m    117\u001b[39m     gpt_neo,\n\u001b[32m    118\u001b[39m     gpt_neox,\n\u001b[32m    119\u001b[39m     gpt_neox_japanese,\n\u001b[32m    120\u001b[39m     gpt_sw3,\n\u001b[32m    121\u001b[39m     gptj,\n\u001b[32m    122\u001b[39m     granite,\n\u001b[32m    123\u001b[39m     granitemoe,\n\u001b[32m    124\u001b[39m     granitemoeshared,\n\u001b[32m    125\u001b[39m     grounding_dino,\n\u001b[32m    126\u001b[39m     groupvit,\n\u001b[32m    127\u001b[39m     helium,\n\u001b[32m    128\u001b[39m     herbert,\n\u001b[32m    129\u001b[39m     hiera,\n\u001b[32m    130\u001b[39m     hubert,\n\u001b[32m    131\u001b[39m     ibert,\n\u001b[32m    132\u001b[39m     idefics,\n\u001b[32m    133\u001b[39m     idefics2,\n\u001b[32m    134\u001b[39m     idefics3,\n\u001b[32m    135\u001b[39m     ijepa,\n\u001b[32m    136\u001b[39m     imagegpt,\n\u001b[32m    137\u001b[39m     informer,\n\u001b[32m    138\u001b[39m     instructblip,\n\u001b[32m    139\u001b[39m     instructblipvideo,\n\u001b[32m    140\u001b[39m     jamba,\n\u001b[32m    141\u001b[39m     jetmoe,\n\u001b[32m    142\u001b[39m     kosmos2,\n\u001b[32m    143\u001b[39m     layoutlm,\n\u001b[32m    144\u001b[39m     layoutlmv2,\n\u001b[32m    145\u001b[39m     layoutlmv3,\n\u001b[32m    146\u001b[39m     layoutxlm,\n\u001b[32m    147\u001b[39m     led,\n\u001b[32m    148\u001b[39m     levit,\n\u001b[32m    149\u001b[39m     lilt,\n\u001b[32m    150\u001b[39m     llama,\n\u001b[32m    151\u001b[39m     llama4,\n\u001b[32m    152\u001b[39m     llava,\n\u001b[32m    153\u001b[39m     llava_next,\n\u001b[32m    154\u001b[39m     llava_next_video,\n\u001b[32m    155\u001b[39m     llava_onevision,\n\u001b[32m    156\u001b[39m     longformer,\n\u001b[32m    157\u001b[39m     longt5,\n\u001b[32m    158\u001b[39m     luke,\n\u001b[32m    159\u001b[39m     lxmert,\n\u001b[32m    160\u001b[39m     m2m_100,\n\u001b[32m    161\u001b[39m     mamba,\n\u001b[32m    162\u001b[39m     mamba2,\n\u001b[32m    163\u001b[39m     marian,\n\u001b[32m    164\u001b[39m     markuplm,\n\u001b[32m    165\u001b[39m     mask2former,\n\u001b[32m    166\u001b[39m     maskformer,\n\u001b[32m    167\u001b[39m     mbart,\n\u001b[32m    168\u001b[39m     mbart50,\n\u001b[32m    169\u001b[39m     megatron_bert,\n\u001b[32m    170\u001b[39m     megatron_gpt2,\n\u001b[32m    171\u001b[39m     mgp_str,\n\u001b[32m    172\u001b[39m     mimi,\n\u001b[32m    173\u001b[39m     mistral,\n\u001b[32m    174\u001b[39m     mistral3,\n\u001b[32m    175\u001b[39m     mixtral,\n\u001b[32m    176\u001b[39m     mllama,\n\u001b[32m    177\u001b[39m     mluke,\n\u001b[32m    178\u001b[39m     mobilebert,\n\u001b[32m    179\u001b[39m     mobilenet_v1,\n\u001b[32m    180\u001b[39m     mobilenet_v2,\n\u001b[32m    181\u001b[39m     mobilevit,\n\u001b[32m    182\u001b[39m     mobilevitv2,\n\u001b[32m    183\u001b[39m     modernbert,\n\u001b[32m    184\u001b[39m     moonshine,\n\u001b[32m    185\u001b[39m     moshi,\n\u001b[32m    186\u001b[39m     mpnet,\n\u001b[32m    187\u001b[39m     mpt,\n\u001b[32m    188\u001b[39m     mra,\n\u001b[32m    189\u001b[39m     mt5,\n\u001b[32m    190\u001b[39m     musicgen,\n\u001b[32m    191\u001b[39m     musicgen_melody,\n\u001b[32m    192\u001b[39m     mvp,\n\u001b[32m    193\u001b[39m     myt5,\n\u001b[32m    194\u001b[39m     nemotron,\n\u001b[32m    195\u001b[39m     nllb,\n\u001b[32m    196\u001b[39m     nllb_moe,\n\u001b[32m    197\u001b[39m     nougat,\n\u001b[32m    198\u001b[39m     nystromformer,\n\u001b[32m    199\u001b[39m     olmo,\n\u001b[32m    200\u001b[39m     olmo2,\n\u001b[32m    201\u001b[39m     olmoe,\n\u001b[32m    202\u001b[39m     omdet_turbo,\n\u001b[32m    203\u001b[39m     oneformer,\n\u001b[32m    204\u001b[39m     openai,\n\u001b[32m    205\u001b[39m     opt,\n\u001b[32m    206\u001b[39m     owlv2,\n\u001b[32m    207\u001b[39m     owlvit,\n\u001b[32m    208\u001b[39m     paligemma,\n\u001b[32m    209\u001b[39m     patchtsmixer,\n\u001b[32m    210\u001b[39m     patchtst,\n\u001b[32m    211\u001b[39m     pegasus,\n\u001b[32m    212\u001b[39m     pegasus_x,\n\u001b[32m    213\u001b[39m     perceiver,\n\u001b[32m    214\u001b[39m     persimmon,\n\u001b[32m    215\u001b[39m     phi,\n\u001b[32m    216\u001b[39m     phi3,\n\u001b[32m    217\u001b[39m     phi4_multimodal,\n\u001b[32m    218\u001b[39m     phimoe,\n\u001b[32m    219\u001b[39m     phobert,\n\u001b[32m    220\u001b[39m     pix2struct,\n\u001b[32m    221\u001b[39m     pixtral,\n\u001b[32m    222\u001b[39m     plbart,\n\u001b[32m    223\u001b[39m     poolformer,\n\u001b[32m    224\u001b[39m     pop2piano,\n\u001b[32m    225\u001b[39m     prompt_depth_anything,\n\u001b[32m    226\u001b[39m     prophetnet,\n\u001b[32m    227\u001b[39m     pvt,\n\u001b[32m    228\u001b[39m     pvt_v2,\n\u001b[32m    229\u001b[39m     qwen2,\n\u001b[32m    230\u001b[39m     qwen2_5_vl,\n\u001b[32m    231\u001b[39m     qwen2_audio,\n\u001b[32m    232\u001b[39m     qwen2_moe,\n\u001b[32m    233\u001b[39m     qwen2_vl,\n\u001b[32m    234\u001b[39m     qwen3,\n\u001b[32m    235\u001b[39m     qwen3_moe,\n\u001b[32m    236\u001b[39m     rag,\n\u001b[32m    237\u001b[39m     recurrent_gemma,\n\u001b[32m    238\u001b[39m     reformer,\n\u001b[32m    239\u001b[39m     regnet,\n\u001b[32m    240\u001b[39m     rembert,\n\u001b[32m    241\u001b[39m     resnet,\n\u001b[32m    242\u001b[39m     roberta,\n\u001b[32m    243\u001b[39m     roberta_prelayernorm,\n\u001b[32m    244\u001b[39m     roc_bert,\n\u001b[32m    245\u001b[39m     roformer,\n\u001b[32m    246\u001b[39m     rt_detr,\n\u001b[32m    247\u001b[39m     rt_detr_v2,\n\u001b[32m    248\u001b[39m     rwkv,\n\u001b[32m    249\u001b[39m     sam,\n\u001b[32m    250\u001b[39m     seamless_m4t,\n\u001b[32m    251\u001b[39m     seamless_m4t_v2,\n\u001b[32m    252\u001b[39m     segformer,\n\u001b[32m    253\u001b[39m     seggpt,\n\u001b[32m    254\u001b[39m     sew,\n\u001b[32m    255\u001b[39m     sew_d,\n\u001b[32m    256\u001b[39m     shieldgemma2,\n\u001b[32m    257\u001b[39m     siglip,\n\u001b[32m    258\u001b[39m     siglip2,\n\u001b[32m    259\u001b[39m     smolvlm,\n\u001b[32m    260\u001b[39m     speech_encoder_decoder,\n\u001b[32m    261\u001b[39m     speech_to_text,\n\u001b[32m    262\u001b[39m     speecht5,\n\u001b[32m    263\u001b[39m     splinter,\n\u001b[32m    264\u001b[39m     squeezebert,\n\u001b[32m    265\u001b[39m     stablelm,\n\u001b[32m    266\u001b[39m     starcoder2,\n\u001b[32m    267\u001b[39m     superglue,\n\u001b[32m    268\u001b[39m     superpoint,\n\u001b[32m    269\u001b[39m     swiftformer,\n\u001b[32m    270\u001b[39m     swin,\n\u001b[32m    271\u001b[39m     swin2sr,\n\u001b[32m    272\u001b[39m     swinv2,\n\u001b[32m    273\u001b[39m     switch_transformers,\n\u001b[32m    274\u001b[39m     t5,\n\u001b[32m    275\u001b[39m     table_transformer,\n\u001b[32m    276\u001b[39m     tapas,\n\u001b[32m    277\u001b[39m     textnet,\n\u001b[32m    278\u001b[39m     time_series_transformer,\n\u001b[32m    279\u001b[39m     timesformer,\n\u001b[32m    280\u001b[39m     timm_backbone,\n\u001b[32m    281\u001b[39m     timm_wrapper,\n\u001b[32m    282\u001b[39m     trocr,\n\u001b[32m    283\u001b[39m     tvp,\n\u001b[32m    284\u001b[39m     udop,\n\u001b[32m    285\u001b[39m     umt5,\n\u001b[32m    286\u001b[39m     unispeech,\n\u001b[32m    287\u001b[39m     unispeech_sat,\n\u001b[32m    288\u001b[39m     univnet,\n\u001b[32m    289\u001b[39m     upernet,\n\u001b[32m    290\u001b[39m     video_llava,\n\u001b[32m    291\u001b[39m     videomae,\n\u001b[32m    292\u001b[39m     vilt,\n\u001b[32m    293\u001b[39m     vipllava,\n\u001b[32m    294\u001b[39m     vision_encoder_decoder,\n\u001b[32m    295\u001b[39m     vision_text_dual_encoder,\n\u001b[32m    296\u001b[39m     visual_bert,\n\u001b[32m    297\u001b[39m     vit,\n\u001b[32m    298\u001b[39m     vit_mae,\n\u001b[32m    299\u001b[39m     vit_msn,\n\u001b[32m    300\u001b[39m     vitdet,\n\u001b[32m    301\u001b[39m     vitmatte,\n\u001b[32m    302\u001b[39m     vitpose,\n\u001b[32m    303\u001b[39m     vitpose_backbone,\n\u001b[32m    304\u001b[39m     vits,\n\u001b[32m    305\u001b[39m     vivit,\n\u001b[32m    306\u001b[39m     wav2vec2,\n\u001b[32m    307\u001b[39m     wav2vec2_bert,\n\u001b[32m    308\u001b[39m     wav2vec2_conformer,\n\u001b[32m    309\u001b[39m     wav2vec2_phoneme,\n\u001b[32m    310\u001b[39m     wav2vec2_with_lm,\n\u001b[32m    311\u001b[39m     wavlm,\n\u001b[32m    312\u001b[39m     whisper,\n\u001b[32m    313\u001b[39m     x_clip,\n\u001b[32m    314\u001b[39m     xglm,\n\u001b[32m    315\u001b[39m     xlm,\n\u001b[32m    316\u001b[39m     xlm_roberta,\n\u001b[32m    317\u001b[39m     xlm_roberta_xl,\n\u001b[32m    318\u001b[39m     xlnet,\n\u001b[32m    319\u001b[39m     xmod,\n\u001b[32m    320\u001b[39m     yolos,\n\u001b[32m    321\u001b[39m     yoso,\n\u001b[32m    322\u001b[39m     zamba,\n\u001b[32m    323\u001b[39m     zamba2,\n\u001b[32m    324\u001b[39m     zoedepth,\n\u001b[32m    325\u001b[39m )\n",
      "\u001b[36mFile \u001b[39m\u001b[32mc:\\Users\\gopal\\AppData\\Local\\Programs\\Python\\Python312\\Lib\\site-packages\\transformers\\models\\deformable_detr\\__init__.py:32\u001b[39m\n\u001b[32m     29\u001b[39m \u001b[38;5;28;01mimport\u001b[39;00m\u001b[38;5;250m \u001b[39m\u001b[34;01msys\u001b[39;00m\n\u001b[32m     31\u001b[39m _file = \u001b[38;5;28mglobals\u001b[39m()[\u001b[33m\"\u001b[39m\u001b[33m__file__\u001b[39m\u001b[33m\"\u001b[39m]\n\u001b[32m---> \u001b[39m\u001b[32m32\u001b[39m sys.modules[\u001b[34m__name__\u001b[39m] = _LazyModule(\u001b[34m__name__\u001b[39m, _file, \u001b[43mdefine_import_structure\u001b[49m\u001b[43m(\u001b[49m\u001b[43m_file\u001b[49m\u001b[43m)\u001b[49m, module_spec=__spec__)\n",
      "\u001b[36mFile \u001b[39m\u001b[32mc:\\Users\\gopal\\AppData\\Local\\Programs\\Python\\Python312\\Lib\\site-packages\\transformers\\utils\\import_utils.py:2391\u001b[39m, in \u001b[36mdefine_import_structure\u001b[39m\u001b[34m(module_path)\u001b[39m\n\u001b[32m   2370\u001b[39m \u001b[38;5;28;01mdef\u001b[39;00m\u001b[38;5;250m \u001b[39m\u001b[34mdefine_import_structure\u001b[39m(module_path: \u001b[38;5;28mstr\u001b[39m) -> IMPORT_STRUCTURE_T:\n\u001b[32m   2371\u001b[39m \u001b[38;5;250m    \u001b[39m\u001b[33;03m\"\"\"\u001b[39;00m\n\u001b[32m   2372\u001b[39m \u001b[33;03m    This method takes a module_path as input and creates an import structure digestible by a _LazyModule.\u001b[39;00m\n\u001b[32m   2373\u001b[39m \n\u001b[32m   (...)\u001b[39m\u001b[32m   2389\u001b[39m \u001b[33;03m    The import structure is a dict defined with frozensets as keys, and dicts of strings to sets of objects.\u001b[39;00m\n\u001b[32m   2390\u001b[39m \u001b[33;03m    \"\"\"\u001b[39;00m\n\u001b[32m-> \u001b[39m\u001b[32m2391\u001b[39m     import_structure = \u001b[43mcreate_import_structure_from_path\u001b[49m\u001b[43m(\u001b[49m\u001b[43mmodule_path\u001b[49m\u001b[43m)\u001b[49m\n\u001b[32m   2392\u001b[39m     \u001b[38;5;28;01mreturn\u001b[39;00m spread_import_structure(import_structure)\n",
      "\u001b[36mFile \u001b[39m\u001b[32mc:\\Users\\gopal\\AppData\\Local\\Programs\\Python\\Python312\\Lib\\site-packages\\transformers\\utils\\import_utils.py:2161\u001b[39m, in \u001b[36mcreate_import_structure_from_path\u001b[39m\u001b[34m(module_path)\u001b[39m\n\u001b[32m   2158\u001b[39m \u001b[38;5;28;01mif\u001b[39;00m \u001b[38;5;129;01mnot\u001b[39;00m module_name.endswith(\u001b[33m\"\u001b[39m\u001b[33m.py\u001b[39m\u001b[33m\"\u001b[39m):\n\u001b[32m   2159\u001b[39m     \u001b[38;5;28;01mcontinue\u001b[39;00m\n\u001b[32m-> \u001b[39m\u001b[32m2161\u001b[39m \u001b[38;5;28;01mwith\u001b[39;00m \u001b[38;5;28;43mopen\u001b[39;49m\u001b[43m(\u001b[49m\u001b[43mos\u001b[49m\u001b[43m.\u001b[49m\u001b[43mpath\u001b[49m\u001b[43m.\u001b[49m\u001b[43mjoin\u001b[49m\u001b[43m(\u001b[49m\u001b[43mdirectory\u001b[49m\u001b[43m,\u001b[49m\u001b[43m \u001b[49m\u001b[43mmodule_name\u001b[49m\u001b[43m)\u001b[49m\u001b[43m,\u001b[49m\u001b[43m \u001b[49m\u001b[43mencoding\u001b[49m\u001b[43m=\u001b[49m\u001b[33;43m\"\u001b[39;49m\u001b[33;43mutf-8\u001b[39;49m\u001b[33;43m\"\u001b[39;49m\u001b[43m)\u001b[49m \u001b[38;5;28;01mas\u001b[39;00m f:\n\u001b[32m   2162\u001b[39m     file_content = f.read()\n\u001b[32m   2164\u001b[39m \u001b[38;5;66;03m# Remove the .py suffix\u001b[39;00m\n",
      "\u001b[36mFile \u001b[39m\u001b[32m<frozen codecs>:309\u001b[39m, in \u001b[36m__init__\u001b[39m\u001b[34m(self, errors)\u001b[39m\n",
      "\u001b[31mKeyboardInterrupt\u001b[39m: "
     ]
    }
   ],
   "source": [
    "import tkinter as tk\n",
    "from tkinter import filedialog\n",
    "from PIL import Image, ImageTk\n",
    "from transformers import BlipProcessor, BlipForConditionalGeneration\n",
    "import torch\n",
    "\n",
    "# Load pretrained BLIP model\n",
    "processor = BlipProcessor.from_pretrained(\"Salesforce/blip-image-captioning-base\")\n",
    "model = BlipForConditionalGeneration.from_pretrained(\"Salesforce/blip-image-captioning-base\")\n",
    "\n",
    "def generate_caption(image_path):\n",
    "    raw_image = Image.open(image_path).convert('RGB')\n",
    "    inputs = processor(images=raw_image, return_tensors=\"pt\")\n",
    "    out = model.generate(**inputs)\n",
    "    caption = processor.decode(out[0], skip_special_tokens=True)\n",
    "    return caption\n",
    "\n",
    "def upload_image():\n",
    "    file_path = filedialog.askopenfilename()\n",
    "    if not file_path:\n",
    "        return\n",
    "\n",
    "    # Display the image\n",
    "    img = Image.open(file_path)\n",
    "    img.thumbnail((400, 400))\n",
    "    img_tk = ImageTk.PhotoImage(img)\n",
    "    image_label.config(image=img_tk)\n",
    "    image_label.image = img_tk\n",
    "\n",
    "    # Generate and display the caption\n",
    "    caption = generate_caption(file_path)\n",
    "    caption_label.config(text=f\"Caption: {caption}\")\n",
    "\n",
    "# GUI Setup\n",
    "root = tk.Tk()\n",
    "root.title(\"Image Captioning App\")\n",
    "root.geometry(\"500x600\")\n",
    "\n",
    "upload_btn = tk.Button(root, text=\"Upload Image\", command=upload_image, font=(\"Arial\", 14))\n",
    "upload_btn.pack(pady=20)\n",
    "\n",
    "image_label = tk.Label(root)\n",
    "image_label.pack()\n",
    "\n",
    "caption_label = tk.Label(root, text=\"Caption: \", wraplength=480, font=(\"Arial\", 12), justify=\"center\")\n",
    "caption_label.pack(pady=20)\n",
    "\n",
    "root.mainloop()\n"
   ]
  }
 ],
 "metadata": {
  "kernelspec": {
   "display_name": "Python 3",
   "language": "python",
   "name": "python3"
  },
  "language_info": {
   "codemirror_mode": {
    "name": "ipython",
    "version": 3
   },
   "file_extension": ".py",
   "mimetype": "text/x-python",
   "name": "python",
   "nbconvert_exporter": "python",
   "pygments_lexer": "ipython3",
   "version": "3.12.1"
  }
 },
 "nbformat": 4,
 "nbformat_minor": 5
}
